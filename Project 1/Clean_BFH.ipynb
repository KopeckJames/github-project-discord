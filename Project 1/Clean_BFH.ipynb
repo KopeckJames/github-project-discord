{
 "cells": [
  {
   "cell_type": "code",
   "execution_count": 18,
   "metadata": {},
   "outputs": [],
   "source": [
    "import pandas as pd\n",
    "import os\n"
   ]
  },
  {
   "cell_type": "code",
   "execution_count": 19,
   "metadata": {},
   "outputs": [],
   "source": [
    "#Reading the data from the csv file\n",
    "df = pd.read_csv('stocks_data_2.csv')\n"
   ]
  },
  {
   "cell_type": "code",
   "execution_count": 20,
   "metadata": {},
   "outputs": [
    {
     "name": "stdout",
     "output_type": "stream",
     "text": [
      "The absolute path of the CSV file is: c:\\Users\\micha\\Project 1\\stocks_data_2.csv\n"
     ]
    }
   ],
   "source": [
    "#Show path of csv file to save new file to\n",
    "csv_file = 'stocks_data_2.csv'\n",
    "absolute_path = os.path.abspath(csv_file)\n",
    "print(f\"The absolute path of the CSV file is: {absolute_path}\")\n",
    "\n"
   ]
  },
  {
   "cell_type": "code",
   "execution_count": 23,
   "metadata": {},
   "outputs": [],
   "source": [
    "#Choose the name of the file to keep\n",
    "name_to_keep = 'BFH'\n"
   ]
  },
  {
   "cell_type": "code",
   "execution_count": 24,
   "metadata": {},
   "outputs": [],
   "source": [
    "#Filter data to only include the column we want to keep\n",
    "filtered_df = df[df['symbol'] == name_to_keep]\n"
   ]
  },
  {
   "cell_type": "code",
   "execution_count": 25,
   "metadata": {},
   "outputs": [],
   "source": [
    "#Filter data in the CSV file\n",
    "filtered_df.to_csv('stocks_data_2.csv', index=False)\n"
   ]
  },
  {
   "cell_type": "code",
   "execution_count": 8,
   "metadata": {},
   "outputs": [
    {
     "name": "stdout",
     "output_type": "stream",
     "text": [
      "                        date_time symbol      Open      High       Low  \\\n",
      "386746  2001-06-15 00:00:00-04:00    BFH  9.458155  9.458155  9.163486   \n",
      "386747  2001-06-18 00:00:00-04:00    BFH  9.235355  9.450965  9.127549   \n",
      "386748  2001-06-19 00:00:00-04:00    BFH  9.630644  9.774386  9.450967   \n",
      "386749  2001-06-20 00:00:00-04:00    BFH  9.702514  9.810320  9.558773   \n",
      "386750  2001-06-21 00:00:00-04:00    BFH  9.724078  9.989998  9.716890   \n",
      "\n",
      "           Close  Volume  Dividends  Stock Splits  \n",
      "386746  9.242543  640784        0.0           0.0  \n",
      "386747  9.422217  511224        0.0           0.0  \n",
      "386748  9.738449  271149        0.0           0.0  \n",
      "386749  9.738449   68163        0.0           0.0  \n",
      "386750  9.975623  101117        0.0           0.0  \n"
     ]
    }
   ],
   "source": [
    "#Show top 5 rows of dataframe to show BFH only exists\n",
    "print(filtered_df.head())\n"
   ]
  },
  {
   "cell_type": "code",
   "execution_count": 28,
   "metadata": {},
   "outputs": [],
   "source": [
    "#Save CSV to path\n",
    "filtered_df.to_csv('/Users/micha/Project 1/stocks_data_2.csv', index=False)\n"
   ]
  },
  {
   "cell_type": "code",
   "execution_count": 30,
   "metadata": {},
   "outputs": [],
   "source": [
    "#Save the filtered dataframe to a new CSV file\n",
    "filtered_df.to_csv('New_BFH.csv', index=False)\n"
   ]
  },
  {
   "cell_type": "code",
   "execution_count": null,
   "metadata": {},
   "outputs": [],
   "source": []
  }
 ],
 "metadata": {
  "kernelspec": {
   "display_name": "Python 3",
   "language": "python",
   "name": "python3"
  },
  "language_info": {
   "codemirror_mode": {
    "name": "ipython",
    "version": 3
   },
   "file_extension": ".py",
   "mimetype": "text/x-python",
   "name": "python",
   "nbconvert_exporter": "python",
   "pygments_lexer": "ipython3",
   "version": "3.12.4"
  }
 },
 "nbformat": 4,
 "nbformat_minor": 2
}
