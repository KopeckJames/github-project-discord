{
 "cells": [
  {
   "cell_type": "code",
   "execution_count": 132,
   "metadata": {},
   "outputs": [],
   "source": [
    "#Load Prereq Libraries\n",
    "import os\n",
    "import sys\n",
    "import time\n",
    "import json\n",
    "import pandas as pd\n",
    "import numpy as np\n",
    "import matplotlib.pyplot as plt\n",
    "from os import path"
   ]
  },
  {
   "cell_type": "code",
   "execution_count": 133,
   "metadata": {},
   "outputs": [
    {
     "data": {
      "text/html": [
       "<div>\n",
       "<style scoped>\n",
       "    .dataframe tbody tr th:only-of-type {\n",
       "        vertical-align: middle;\n",
       "    }\n",
       "\n",
       "    .dataframe tbody tr th {\n",
       "        vertical-align: top;\n",
       "    }\n",
       "\n",
       "    .dataframe thead th {\n",
       "        text-align: right;\n",
       "    }\n",
       "</style>\n",
       "<table border=\"1\" class=\"dataframe\">\n",
       "  <thead>\n",
       "    <tr style=\"text-align: right;\">\n",
       "      <th></th>\n",
       "      <th>Unnamed: 0</th>\n",
       "      <th>Unnamed: 1</th>\n",
       "      <th>Unnamed: 2</th>\n",
       "      <th>https://dataverse.harvard.edu/dataset.xhtml?persistentId=doi:10.7910/DVN/MHOXDV</th>\n",
       "      <th>Unnamed: 4</th>\n",
       "      <th>Unnamed: 5</th>\n",
       "      <th>Unnamed: 6</th>\n",
       "      <th>Unnamed: 7</th>\n",
       "      <th>Unnamed: 8</th>\n",
       "      <th>Unnamed: 9</th>\n",
       "      <th>Unnamed: 10</th>\n",
       "      <th>Unnamed: 11</th>\n",
       "    </tr>\n",
       "  </thead>\n",
       "  <tbody>\n",
       "    <tr>\n",
       "      <th>0</th>\n",
       "      <td>campaign</td>\n",
       "      <td>participants as % population</td>\n",
       "      <td>Success?</td>\n",
       "      <td>MAX of participants</td>\n",
       "      <td>ID</td>\n",
       "      <td>Year of max involvement</td>\n",
       "      <td>First year of campaign</td>\n",
       "      <td>Last year of camapaign</td>\n",
       "      <td>Location</td>\n",
       "      <td>Pop in that year</td>\n",
       "      <td>greater than 3.5% of pop involved?</td>\n",
       "      <td>Problem?</td>\n",
       "    </tr>\n",
       "    <tr>\n",
       "      <th>1</th>\n",
       "      <td>Singing Revolution</td>\n",
       "      <td>128.85%</td>\n",
       "      <td>TRUE</td>\n",
       "      <td>2,000,000</td>\n",
       "      <td>202</td>\n",
       "      <td>1987</td>\n",
       "      <td>1987</td>\n",
       "      <td>1991</td>\n",
       "      <td>Estonia</td>\n",
       "      <td>1,552,221</td>\n",
       "      <td>TRUE</td>\n",
       "      <td>chill</td>\n",
       "    </tr>\n",
       "    <tr>\n",
       "      <th>2</th>\n",
       "      <td>Aruba Pro-Independence Campaign</td>\n",
       "      <td>99.39%</td>\n",
       "      <td>FALSE</td>\n",
       "      <td>60,000</td>\n",
       "      <td>254</td>\n",
       "      <td>1977</td>\n",
       "      <td>1977</td>\n",
       "      <td>1977</td>\n",
       "      <td>Aruba</td>\n",
       "      <td>60,366</td>\n",
       "      <td>TRUE</td>\n",
       "      <td>PROBLEM</td>\n",
       "    </tr>\n",
       "    <tr>\n",
       "      <th>3</th>\n",
       "      <td>Latvia pro-dem movement</td>\n",
       "      <td>74.99%</td>\n",
       "      <td>TRUE</td>\n",
       "      <td>2,000,000</td>\n",
       "      <td>127</td>\n",
       "      <td>1989</td>\n",
       "      <td>1989</td>\n",
       "      <td>1991</td>\n",
       "      <td>Latvia</td>\n",
       "      <td>2,666,955</td>\n",
       "      <td>TRUE</td>\n",
       "      <td>chill</td>\n",
       "    </tr>\n",
       "    <tr>\n",
       "      <th>4</th>\n",
       "      <td>Uruguay Anti-Military</td>\n",
       "      <td>66.84%</td>\n",
       "      <td>TRUE</td>\n",
       "      <td>2,000,001</td>\n",
       "      <td>239</td>\n",
       "      <td>1984</td>\n",
       "      <td>1984</td>\n",
       "      <td>1985</td>\n",
       "      <td>Uruguay</td>\n",
       "      <td>2,992,246</td>\n",
       "      <td>TRUE</td>\n",
       "      <td>chill</td>\n",
       "    </tr>\n",
       "  </tbody>\n",
       "</table>\n",
       "</div>"
      ],
      "text/plain": [
       "                        Unnamed: 0                    Unnamed: 1 Unnamed: 2  \\\n",
       "0                         campaign  participants as % population   Success?   \n",
       "1               Singing Revolution                       128.85%       TRUE   \n",
       "2  Aruba Pro-Independence Campaign                        99.39%      FALSE   \n",
       "3          Latvia pro-dem movement                        74.99%       TRUE   \n",
       "4            Uruguay Anti-Military                        66.84%       TRUE   \n",
       "\n",
       "  https://dataverse.harvard.edu/dataset.xhtml?persistentId=doi:10.7910/DVN/MHOXDV  \\\n",
       "0                                MAX of participants                                \n",
       "1                                          2,000,000                                \n",
       "2                                             60,000                                \n",
       "3                                          2,000,000                                \n",
       "4                                          2,000,001                                \n",
       "\n",
       "  Unnamed: 4               Unnamed: 5              Unnamed: 6  \\\n",
       "0         ID  Year of max involvement  First year of campaign   \n",
       "1        202                     1987                    1987   \n",
       "2        254                     1977                    1977   \n",
       "3        127                     1989                    1989   \n",
       "4        239                     1984                    1984   \n",
       "\n",
       "               Unnamed: 7 Unnamed: 8        Unnamed: 9  \\\n",
       "0  Last year of camapaign   Location  Pop in that year   \n",
       "1                    1991    Estonia         1,552,221   \n",
       "2                    1977      Aruba            60,366   \n",
       "3                    1991     Latvia         2,666,955   \n",
       "4                    1985    Uruguay         2,992,246   \n",
       "\n",
       "                          Unnamed: 10 Unnamed: 11  \n",
       "0  greater than 3.5% of pop involved?    Problem?  \n",
       "1                                TRUE       chill  \n",
       "2                                TRUE     PROBLEM  \n",
       "3                                TRUE       chill  \n",
       "4                                TRUE       chill  "
      ]
     },
     "execution_count": 133,
     "metadata": {},
     "output_type": "execute_result"
    }
   ],
   "source": [
    "#Import csv file\n",
    "data = pd.read_csv('Resources/Protests.csv')\n",
    "data.head()\n"
   ]
  },
  {
   "cell_type": "code",
   "execution_count": 134,
   "metadata": {},
   "outputs": [
    {
     "data": {
      "text/html": [
       "<div>\n",
       "<style scoped>\n",
       "    .dataframe tbody tr th:only-of-type {\n",
       "        vertical-align: middle;\n",
       "    }\n",
       "\n",
       "    .dataframe tbody tr th {\n",
       "        vertical-align: top;\n",
       "    }\n",
       "\n",
       "    .dataframe thead th {\n",
       "        text-align: right;\n",
       "    }\n",
       "</style>\n",
       "<table border=\"1\" class=\"dataframe\">\n",
       "  <thead>\n",
       "    <tr style=\"text-align: right;\">\n",
       "      <th></th>\n",
       "      <th>campaign</th>\n",
       "      <th>participants as % population</th>\n",
       "      <th>Success</th>\n",
       "      <th>MAX of participants</th>\n",
       "      <th>ID</th>\n",
       "      <th>Year of max involvement</th>\n",
       "      <th>First year of campaign</th>\n",
       "      <th>Last year of campaign</th>\n",
       "      <th>Location</th>\n",
       "      <th>Pop in that year</th>\n",
       "      <th>greater than 3.5% of pop involved?</th>\n",
       "      <th>Problem?</th>\n",
       "    </tr>\n",
       "  </thead>\n",
       "  <tbody>\n",
       "    <tr>\n",
       "      <th>0</th>\n",
       "      <td>campaign</td>\n",
       "      <td>participants as % population</td>\n",
       "      <td>Success?</td>\n",
       "      <td>MAX of participants</td>\n",
       "      <td>ID</td>\n",
       "      <td>Year of max involvement</td>\n",
       "      <td>First year of campaign</td>\n",
       "      <td>Last year of camapaign</td>\n",
       "      <td>Location</td>\n",
       "      <td>Pop in that year</td>\n",
       "      <td>greater than 3.5% of pop involved?</td>\n",
       "      <td>Problem?</td>\n",
       "    </tr>\n",
       "    <tr>\n",
       "      <th>1</th>\n",
       "      <td>Singing Revolution</td>\n",
       "      <td>128.85%</td>\n",
       "      <td>TRUE</td>\n",
       "      <td>2,000,000</td>\n",
       "      <td>202</td>\n",
       "      <td>1987</td>\n",
       "      <td>1987</td>\n",
       "      <td>1991</td>\n",
       "      <td>Estonia</td>\n",
       "      <td>1,552,221</td>\n",
       "      <td>TRUE</td>\n",
       "      <td>chill</td>\n",
       "    </tr>\n",
       "    <tr>\n",
       "      <th>2</th>\n",
       "      <td>Aruba Pro-Independence Campaign</td>\n",
       "      <td>99.39%</td>\n",
       "      <td>FALSE</td>\n",
       "      <td>60,000</td>\n",
       "      <td>254</td>\n",
       "      <td>1977</td>\n",
       "      <td>1977</td>\n",
       "      <td>1977</td>\n",
       "      <td>Aruba</td>\n",
       "      <td>60,366</td>\n",
       "      <td>TRUE</td>\n",
       "      <td>PROBLEM</td>\n",
       "    </tr>\n",
       "    <tr>\n",
       "      <th>3</th>\n",
       "      <td>Latvia pro-dem movement</td>\n",
       "      <td>74.99%</td>\n",
       "      <td>TRUE</td>\n",
       "      <td>2,000,000</td>\n",
       "      <td>127</td>\n",
       "      <td>1989</td>\n",
       "      <td>1989</td>\n",
       "      <td>1991</td>\n",
       "      <td>Latvia</td>\n",
       "      <td>2,666,955</td>\n",
       "      <td>TRUE</td>\n",
       "      <td>chill</td>\n",
       "    </tr>\n",
       "    <tr>\n",
       "      <th>4</th>\n",
       "      <td>Uruguay Anti-Military</td>\n",
       "      <td>66.84%</td>\n",
       "      <td>TRUE</td>\n",
       "      <td>2,000,001</td>\n",
       "      <td>239</td>\n",
       "      <td>1984</td>\n",
       "      <td>1984</td>\n",
       "      <td>1985</td>\n",
       "      <td>Uruguay</td>\n",
       "      <td>2,992,246</td>\n",
       "      <td>TRUE</td>\n",
       "      <td>chill</td>\n",
       "    </tr>\n",
       "  </tbody>\n",
       "</table>\n",
       "</div>"
      ],
      "text/plain": [
       "                          campaign  participants as % population   Success  \\\n",
       "0                         campaign  participants as % population  Success?   \n",
       "1               Singing Revolution                       128.85%      TRUE   \n",
       "2  Aruba Pro-Independence Campaign                        99.39%     FALSE   \n",
       "3          Latvia pro-dem movement                        74.99%      TRUE   \n",
       "4            Uruguay Anti-Military                        66.84%      TRUE   \n",
       "\n",
       "   MAX of participants   ID  Year of max involvement  First year of campaign  \\\n",
       "0  MAX of participants   ID  Year of max involvement  First year of campaign   \n",
       "1            2,000,000  202                     1987                    1987   \n",
       "2               60,000  254                     1977                    1977   \n",
       "3            2,000,000  127                     1989                    1989   \n",
       "4            2,000,001  239                     1984                    1984   \n",
       "\n",
       "    Last year of campaign  Location  Pop in that year  \\\n",
       "0  Last year of camapaign  Location  Pop in that year   \n",
       "1                    1991   Estonia         1,552,221   \n",
       "2                    1977     Aruba            60,366   \n",
       "3                    1991    Latvia         2,666,955   \n",
       "4                    1985   Uruguay         2,992,246   \n",
       "\n",
       "   greater than 3.5% of pop involved?  Problem?  \n",
       "0  greater than 3.5% of pop involved?  Problem?  \n",
       "1                                TRUE     chill  \n",
       "2                                TRUE   PROBLEM  \n",
       "3                                TRUE     chill  \n",
       "4                                TRUE     chill  "
      ]
     },
     "execution_count": 134,
     "metadata": {},
     "output_type": "execute_result"
    }
   ],
   "source": [
    "protest_data_df = data.rename(columns={\"Unnamed: 0\" : 'campaign', 'Unnamed: 1' : 'participants as % population', 'Unnamed: 2' : 'Success',\n",
    "                                       'https://dataverse.harvard.edu/dataset.xhtml?persistentId=doi:10.7910/DVN/MHOXDV' : 'MAX of participants',\n",
    "                                       'Unnamed: 4' : 'ID', 'Unnamed: 5' : 'Year of max involvement', 'Unnamed: 6' : 'First year of campaign',\n",
    "                                        'Unnamed: 7' : 'Last year of campaign', 'Unnamed: 8' : 'Location', 'Unnamed: 9' : 'Pop in that year',\n",
    "                                        'Unnamed: 10' : 'greater than 3.5% of pop involved?', 'Unnamed: 11' : 'Problem?'})\n",
    "protest_data_df.head()\n"
   ]
  },
  {
   "cell_type": "code",
   "execution_count": 135,
   "metadata": {},
   "outputs": [
    {
     "data": {
      "text/html": [
       "<div>\n",
       "<style scoped>\n",
       "    .dataframe tbody tr th:only-of-type {\n",
       "        vertical-align: middle;\n",
       "    }\n",
       "\n",
       "    .dataframe tbody tr th {\n",
       "        vertical-align: top;\n",
       "    }\n",
       "\n",
       "    .dataframe thead th {\n",
       "        text-align: right;\n",
       "    }\n",
       "</style>\n",
       "<table border=\"1\" class=\"dataframe\">\n",
       "  <thead>\n",
       "    <tr style=\"text-align: right;\">\n",
       "      <th></th>\n",
       "      <th>campaign</th>\n",
       "      <th>participants as % population</th>\n",
       "      <th>Success</th>\n",
       "      <th>MAX of participants</th>\n",
       "      <th>ID</th>\n",
       "      <th>Year of max involvement</th>\n",
       "      <th>First year of campaign</th>\n",
       "      <th>Last year of campaign</th>\n",
       "      <th>Location</th>\n",
       "      <th>Pop in that year</th>\n",
       "      <th>greater than 3.5% of pop involved?</th>\n",
       "      <th>Problem?</th>\n",
       "    </tr>\n",
       "  </thead>\n",
       "  <tbody>\n",
       "    <tr>\n",
       "      <th>1</th>\n",
       "      <td>Singing Revolution</td>\n",
       "      <td>128.85%</td>\n",
       "      <td>TRUE</td>\n",
       "      <td>2,000,000</td>\n",
       "      <td>202</td>\n",
       "      <td>1987</td>\n",
       "      <td>1987</td>\n",
       "      <td>1991</td>\n",
       "      <td>Estonia</td>\n",
       "      <td>1,552,221</td>\n",
       "      <td>TRUE</td>\n",
       "      <td>chill</td>\n",
       "    </tr>\n",
       "    <tr>\n",
       "      <th>2</th>\n",
       "      <td>Aruba Pro-Independence Campaign</td>\n",
       "      <td>99.39%</td>\n",
       "      <td>FALSE</td>\n",
       "      <td>60,000</td>\n",
       "      <td>254</td>\n",
       "      <td>1977</td>\n",
       "      <td>1977</td>\n",
       "      <td>1977</td>\n",
       "      <td>Aruba</td>\n",
       "      <td>60,366</td>\n",
       "      <td>TRUE</td>\n",
       "      <td>PROBLEM</td>\n",
       "    </tr>\n",
       "    <tr>\n",
       "      <th>3</th>\n",
       "      <td>Latvia pro-dem movement</td>\n",
       "      <td>74.99%</td>\n",
       "      <td>TRUE</td>\n",
       "      <td>2,000,000</td>\n",
       "      <td>127</td>\n",
       "      <td>1989</td>\n",
       "      <td>1989</td>\n",
       "      <td>1991</td>\n",
       "      <td>Latvia</td>\n",
       "      <td>2,666,955</td>\n",
       "      <td>TRUE</td>\n",
       "      <td>chill</td>\n",
       "    </tr>\n",
       "    <tr>\n",
       "      <th>4</th>\n",
       "      <td>Uruguay Anti-Military</td>\n",
       "      <td>66.84%</td>\n",
       "      <td>TRUE</td>\n",
       "      <td>2,000,001</td>\n",
       "      <td>239</td>\n",
       "      <td>1984</td>\n",
       "      <td>1984</td>\n",
       "      <td>1985</td>\n",
       "      <td>Uruguay</td>\n",
       "      <td>2,992,246</td>\n",
       "      <td>TRUE</td>\n",
       "      <td>chill</td>\n",
       "    </tr>\n",
       "    <tr>\n",
       "      <th>5</th>\n",
       "      <td>Czech Anti-Soviet Occupation</td>\n",
       "      <td>35.52%</td>\n",
       "      <td>FALSE</td>\n",
       "      <td>3,500,000</td>\n",
       "      <td>64</td>\n",
       "      <td>1967</td>\n",
       "      <td>1967</td>\n",
       "      <td>1968</td>\n",
       "      <td>Czechoslovakia</td>\n",
       "      <td>9,852,899</td>\n",
       "      <td>TRUE</td>\n",
       "      <td>PROBLEM</td>\n",
       "    </tr>\n",
       "  </tbody>\n",
       "</table>\n",
       "</div>"
      ],
      "text/plain": [
       "                          campaign participants as % population Success  \\\n",
       "1               Singing Revolution                      128.85%    TRUE   \n",
       "2  Aruba Pro-Independence Campaign                       99.39%   FALSE   \n",
       "3          Latvia pro-dem movement                       74.99%    TRUE   \n",
       "4            Uruguay Anti-Military                       66.84%    TRUE   \n",
       "5     Czech Anti-Soviet Occupation                       35.52%   FALSE   \n",
       "\n",
       "  MAX of participants   ID Year of max involvement First year of campaign  \\\n",
       "1           2,000,000  202                    1987                   1987   \n",
       "2              60,000  254                    1977                   1977   \n",
       "3           2,000,000  127                    1989                   1989   \n",
       "4           2,000,001  239                    1984                   1984   \n",
       "5           3,500,000   64                    1967                   1967   \n",
       "\n",
       "  Last year of campaign        Location Pop in that year  \\\n",
       "1                  1991         Estonia        1,552,221   \n",
       "2                  1977           Aruba           60,366   \n",
       "3                  1991          Latvia        2,666,955   \n",
       "4                  1985         Uruguay        2,992,246   \n",
       "5                  1968  Czechoslovakia        9,852,899   \n",
       "\n",
       "  greater than 3.5% of pop involved? Problem?  \n",
       "1                               TRUE    chill  \n",
       "2                               TRUE  PROBLEM  \n",
       "3                               TRUE    chill  \n",
       "4                               TRUE    chill  \n",
       "5                               TRUE  PROBLEM  "
      ]
     },
     "execution_count": 135,
     "metadata": {},
     "output_type": "execute_result"
    }
   ],
   "source": [
    "#Delete first row that's duplicating the column headers\n",
    "protest_data_df.drop(protest_data_df.index[0], inplace=True)\n",
    "\n",
    "\n",
    "protest_data_df.head()"
   ]
  },
  {
   "cell_type": "code",
   "execution_count": 136,
   "metadata": {},
   "outputs": [],
   "source": [
    "#Create new df with only the columns we need\n",
    "trim_protest_data_df = protest_data_df[['campaign', 'participants as % population', 'Success', 'First year of campaign', 'Last year of campaign', 'Location', 'Pop in that year', 'greater than 3.5% of pop involved?']]\n"
   ]
  },
  {
   "cell_type": "code",
   "execution_count": 137,
   "metadata": {},
   "outputs": [
    {
     "data": {
      "text/html": [
       "<div>\n",
       "<style scoped>\n",
       "    .dataframe tbody tr th:only-of-type {\n",
       "        vertical-align: middle;\n",
       "    }\n",
       "\n",
       "    .dataframe tbody tr th {\n",
       "        vertical-align: top;\n",
       "    }\n",
       "\n",
       "    .dataframe thead th {\n",
       "        text-align: right;\n",
       "    }\n",
       "</style>\n",
       "<table border=\"1\" class=\"dataframe\">\n",
       "  <thead>\n",
       "    <tr style=\"text-align: right;\">\n",
       "      <th></th>\n",
       "      <th>campaign</th>\n",
       "      <th>participants as % population</th>\n",
       "      <th>Success</th>\n",
       "      <th>First year of campaign</th>\n",
       "      <th>Last year of campaign</th>\n",
       "      <th>Location</th>\n",
       "      <th>Pop in that year</th>\n",
       "      <th>greater than 3.5% of pop involved?</th>\n",
       "    </tr>\n",
       "  </thead>\n",
       "  <tbody>\n",
       "    <tr>\n",
       "      <th>count</th>\n",
       "      <td>299</td>\n",
       "      <td>299</td>\n",
       "      <td>299</td>\n",
       "      <td>299</td>\n",
       "      <td>299</td>\n",
       "      <td>299</td>\n",
       "      <td>299</td>\n",
       "      <td>299</td>\n",
       "    </tr>\n",
       "    <tr>\n",
       "      <th>unique</th>\n",
       "      <td>299</td>\n",
       "      <td>155</td>\n",
       "      <td>2</td>\n",
       "      <td>52</td>\n",
       "      <td>52</td>\n",
       "      <td>123</td>\n",
       "      <td>290</td>\n",
       "      <td>2</td>\n",
       "    </tr>\n",
       "    <tr>\n",
       "      <th>top</th>\n",
       "      <td>Singing Revolution</td>\n",
       "      <td>0.00%</td>\n",
       "      <td>FALSE</td>\n",
       "      <td>1991</td>\n",
       "      <td>2013</td>\n",
       "      <td>Pakistan</td>\n",
       "      <td>88,404,640</td>\n",
       "      <td>FALSE</td>\n",
       "    </tr>\n",
       "    <tr>\n",
       "      <th>freq</th>\n",
       "      <td>1</td>\n",
       "      <td>18</td>\n",
       "      <td>180</td>\n",
       "      <td>16</td>\n",
       "      <td>55</td>\n",
       "      <td>11</td>\n",
       "      <td>3</td>\n",
       "      <td>261</td>\n",
       "    </tr>\n",
       "  </tbody>\n",
       "</table>\n",
       "</div>"
      ],
      "text/plain": [
       "                  campaign participants as % population Success  \\\n",
       "count                  299                          299     299   \n",
       "unique                 299                          155       2   \n",
       "top     Singing Revolution                        0.00%   FALSE   \n",
       "freq                     1                           18     180   \n",
       "\n",
       "       First year of campaign Last year of campaign  Location  \\\n",
       "count                     299                   299       299   \n",
       "unique                     52                    52       123   \n",
       "top                      1991                  2013  Pakistan   \n",
       "freq                       16                    55        11   \n",
       "\n",
       "       Pop in that year greater than 3.5% of pop involved?  \n",
       "count               299                                299  \n",
       "unique              290                                  2  \n",
       "top          88,404,640                              FALSE  \n",
       "freq                  3                                261  "
      ]
     },
     "execution_count": 137,
     "metadata": {},
     "output_type": "execute_result"
    }
   ],
   "source": [
    "#Describe the data\n",
    "trim_protest_data_df.describe()\n"
   ]
  },
  {
   "cell_type": "code",
   "execution_count": 138,
   "metadata": {},
   "outputs": [
    {
     "name": "stdout",
     "output_type": "stream",
     "text": [
      "<class 'pandas.core.frame.DataFrame'>\n",
      "RangeIndex: 299 entries, 1 to 299\n",
      "Data columns (total 8 columns):\n",
      " #   Column                              Non-Null Count  Dtype \n",
      "---  ------                              --------------  ----- \n",
      " 0   campaign                            299 non-null    object\n",
      " 1   participants as % population        299 non-null    object\n",
      " 2   Success                             299 non-null    object\n",
      " 3   First year of campaign              299 non-null    object\n",
      " 4   Last year of campaign               299 non-null    object\n",
      " 5   Location                            299 non-null    object\n",
      " 6   Pop in that year                    299 non-null    object\n",
      " 7   greater than 3.5% of pop involved?  299 non-null    object\n",
      "dtypes: object(8)\n",
      "memory usage: 18.8+ KB\n"
     ]
    }
   ],
   "source": [
    "trim_protest_data_df.info()"
   ]
  },
  {
   "cell_type": "code",
   "execution_count": 139,
   "metadata": {},
   "outputs": [
    {
     "data": {
      "text/plain": [
       "Success\n",
       "FALSE    180\n",
       "TRUE     119\n",
       "Name: count, dtype: int64"
      ]
     },
     "execution_count": 139,
     "metadata": {},
     "output_type": "execute_result"
    }
   ],
   "source": [
    "#Check how many counts are in the Success column\n",
    "trim_protest_data_df['Success'].value_counts()"
   ]
  },
  {
   "cell_type": "code",
   "execution_count": 140,
   "metadata": {},
   "outputs": [
    {
     "data": {
      "text/plain": [
       "participants as % population\n",
       "0.00%    18\n",
       "0.02%    14\n",
       "0.01%    11\n",
       "0.03%     9\n",
       "0.05%     9\n",
       "         ..\n",
       "2.05%     1\n",
       "2.03%     1\n",
       "1.99%     1\n",
       "1.97%     1\n",
       "1.18%     1\n",
       "Name: count, Length: 155, dtype: int64"
      ]
     },
     "execution_count": 140,
     "metadata": {},
     "output_type": "execute_result"
    }
   ],
   "source": [
    "#Check value on participants as % population\n",
    "trim_protest_data_df['participants as % population'].value_counts()\n"
   ]
  },
  {
   "cell_type": "code",
   "execution_count": 141,
   "metadata": {},
   "outputs": [
    {
     "name": "stdout",
     "output_type": "stream",
     "text": [
      "Not all values in the 'numbers' column are integers.\n"
     ]
    }
   ],
   "source": [
    "# Check if all values in the pop in that year column are integers\n",
    "are_all_integers = trim_protest_data_df['Pop in that year'].apply(lambda x: isinstance(x, int)).all()\n",
    "\n",
    "if are_all_integers:\n",
    "    print(\"All values in the 'numbers' column are integers.\")\n",
    "else:\n",
    "    print(\"Not all values in the 'numbers' column are integers.\")"
   ]
  },
  {
   "cell_type": "code",
   "execution_count": 142,
   "metadata": {},
   "outputs": [
    {
     "name": "stderr",
     "output_type": "stream",
     "text": [
      "C:\\Users\\Cajun\\AppData\\Local\\Temp\\ipykernel_32852\\3164770781.py:2: SettingWithCopyWarning: \n",
      "A value is trying to be set on a copy of a slice from a DataFrame.\n",
      "Try using .loc[row_indexer,col_indexer] = value instead\n",
      "\n",
      "See the caveats in the documentation: https://pandas.pydata.org/pandas-docs/stable/user_guide/indexing.html#returning-a-view-versus-a-copy\n",
      "  trim_protest_data_df['Pop in that year'] = trim_protest_data_df['Pop in that year'].str.replace(',', '')\n"
     ]
    }
   ],
   "source": [
    "#Take out the commas in the 'Pop in that year' column\n",
    "trim_protest_data_df['Pop in that year'] = trim_protest_data_df['Pop in that year'].str.replace(',', '')"
   ]
  },
  {
   "cell_type": "code",
   "execution_count": 143,
   "metadata": {},
   "outputs": [
    {
     "name": "stdout",
     "output_type": "stream",
     "text": [
      "All values in the 'numbers' column can be converted to integers.\n"
     ]
    }
   ],
   "source": [
    "# Convert the 'Pop in that year' column to integers\n",
    "can_convert_to_int = trim_protest_data_df['Pop in that year'].apply(lambda x: x.isdigit()).all()\n",
    "\n",
    "if can_convert_to_int:\n",
    "    print(\"All values in the 'numbers' column can be converted to integers.\")\n",
    "else:\n",
    "    print(\"Not all values in the 'numbers' column can be converted to integers.\")"
   ]
  },
  {
   "cell_type": "code",
   "execution_count": 144,
   "metadata": {},
   "outputs": [
    {
     "name": "stderr",
     "output_type": "stream",
     "text": [
      "C:\\Users\\Cajun\\AppData\\Local\\Temp\\ipykernel_32852\\957814049.py:1: SettingWithCopyWarning: \n",
      "A value is trying to be set on a copy of a slice from a DataFrame.\n",
      "Try using .loc[row_indexer,col_indexer] = value instead\n",
      "\n",
      "See the caveats in the documentation: https://pandas.pydata.org/pandas-docs/stable/user_guide/indexing.html#returning-a-view-versus-a-copy\n",
      "  trim_protest_data_df['Pop in that year'] = trim_protest_data_df['Pop in that year'].astype(int)\n"
     ]
    }
   ],
   "source": [
    "trim_protest_data_df['Pop in that year'] = trim_protest_data_df['Pop in that year'].astype(int)\n"
   ]
  },
  {
   "cell_type": "code",
   "execution_count": 145,
   "metadata": {},
   "outputs": [
    {
     "name": "stdout",
     "output_type": "stream",
     "text": [
      "All values in the 'numbers' column are integers.\n"
     ]
    }
   ],
   "source": [
    "#Check if all values in the 'Pop in that year' column are integers\n",
    "are_all_integers = trim_protest_data_df['Pop in that year'].apply(lambda x: isinstance(x, int)).all()\n",
    "\n",
    "if are_all_integers:\n",
    "    print(\"All values in the 'numbers' column are integers.\")\n",
    "else:\n",
    "    print(\"Not all values in the 'numbers' column are integers.\")"
   ]
  },
  {
   "cell_type": "code",
   "execution_count": 146,
   "metadata": {},
   "outputs": [
    {
     "name": "stderr",
     "output_type": "stream",
     "text": [
      "C:\\Users\\Cajun\\AppData\\Local\\Temp\\ipykernel_32852\\3345502905.py:2: SettingWithCopyWarning: \n",
      "A value is trying to be set on a copy of a slice from a DataFrame.\n",
      "Try using .loc[row_indexer,col_indexer] = value instead\n",
      "\n",
      "See the caveats in the documentation: https://pandas.pydata.org/pandas-docs/stable/user_guide/indexing.html#returning-a-view-versus-a-copy\n",
      "  trim_protest_data_df['participants as % population'] = trim_protest_data_df['participants as % population'].str.replace('%', '')\n",
      "C:\\Users\\Cajun\\AppData\\Local\\Temp\\ipykernel_32852\\3345502905.py:5: SettingWithCopyWarning: \n",
      "A value is trying to be set on a copy of a slice from a DataFrame.\n",
      "Try using .loc[row_indexer,col_indexer] = value instead\n",
      "\n",
      "See the caveats in the documentation: https://pandas.pydata.org/pandas-docs/stable/user_guide/indexing.html#returning-a-view-versus-a-copy\n",
      "  trim_protest_data_df['participants as % population'] = trim_protest_data_df['participants as % population'].str.replace('.', '')\n"
     ]
    }
   ],
   "source": [
    "#Remove the % sign from the 'participants as % population' column\n",
    "trim_protest_data_df['participants as % population'] = trim_protest_data_df['participants as % population'].str.replace('%', '')\n",
    "\n",
    "#Remove the . from the 'participants as % population' column\n",
    "trim_protest_data_df['participants as % population'] = trim_protest_data_df['participants as % population'].str.replace('.', '')\n"
   ]
  },
  {
   "cell_type": "code",
   "execution_count": 147,
   "metadata": {},
   "outputs": [
    {
     "name": "stdout",
     "output_type": "stream",
     "text": [
      "All values in the 'participants as % population' column can be converted to floats.\n"
     ]
    }
   ],
   "source": [
    "#Check if all values in the 'participants as % population' column can be converted to floats\n",
    "can_convert_to_float = trim_protest_data_df['participants as % population'].apply(lambda x: x.replace('.', '', 1).isdigit()).all()\n",
    "\n",
    "if can_convert_to_float:\n",
    "    print(\"All values in the 'participants as % population' column can be converted to floats.\")\n",
    "else:\n",
    "    print(\"Not all values in the 'participants as % population' column can be converted to floats.\")"
   ]
  },
  {
   "cell_type": "code",
   "execution_count": 148,
   "metadata": {},
   "outputs": [
    {
     "name": "stderr",
     "output_type": "stream",
     "text": [
      "C:\\Users\\Cajun\\AppData\\Local\\Temp\\ipykernel_32852\\1117732309.py:1: SettingWithCopyWarning: \n",
      "A value is trying to be set on a copy of a slice from a DataFrame.\n",
      "Try using .loc[row_indexer,col_indexer] = value instead\n",
      "\n",
      "See the caveats in the documentation: https://pandas.pydata.org/pandas-docs/stable/user_guide/indexing.html#returning-a-view-versus-a-copy\n",
      "  trim_protest_data_df['parparticipants as % population'] = trim_protest_data_df['participants as % population'].astype(float)\n"
     ]
    }
   ],
   "source": [
    "trim_protest_data_df['parparticipants as % population'] = trim_protest_data_df['participants as % population'].astype(float)"
   ]
  },
  {
   "cell_type": "code",
   "execution_count": 149,
   "metadata": {},
   "outputs": [
    {
     "name": "stdout",
     "output_type": "stream",
     "text": [
      "Not all values in the 'participants as % population' column are floats.\n"
     ]
    }
   ],
   "source": [
    "#Check if all values in the 'participants as % population' column are floats\n",
    "are_all_floats = trim_protest_data_df['participants as % population'].apply(lambda x: isinstance(x, float)).all()\n",
    "\n",
    "if are_all_floats:\n",
    "    print(\"All values in the 'participants as % population' column are floats.\")\n",
    "else:\n",
    "    print(\"Not all values in the 'participants as % population' column are floats.\")"
   ]
  },
  {
   "cell_type": "code",
   "execution_count": 150,
   "metadata": {},
   "outputs": [
    {
     "data": {
      "text/plain": [
       "participants as % population\n",
       "<class 'str'>    299\n",
       "Name: count, dtype: int64"
      ]
     },
     "execution_count": 150,
     "metadata": {},
     "output_type": "execute_result"
    }
   ],
   "source": [
    "#Check all value types in participants as % population column\n",
    "trim_protest_data_df['participants as % population'].apply(type).value_counts()"
   ]
  },
  {
   "cell_type": "code",
   "execution_count": 151,
   "metadata": {},
   "outputs": [
    {
     "name": "stdout",
     "output_type": "stream",
     "text": [
      "                            campaign  participants as % population Success  \\\n",
      "1                 Singing Revolution                         12885    TRUE   \n",
      "2    Aruba Pro-Independence Campaign                          9939   FALSE   \n",
      "3            Latvia pro-dem movement                          7499    TRUE   \n",
      "4              Uruguay Anti-Military                          6684    TRUE   \n",
      "5       Czech Anti-Soviet Occupation                          3552   FALSE   \n",
      "..                               ...                           ...     ...   \n",
      "295               Naxalite rebellion                             0   FALSE   \n",
      "296      Assam Independence Campaign                             0   FALSE   \n",
      "297   Bodoland Independence Campaign                             0   FALSE   \n",
      "298             Tripuri nationalists                             0   FALSE   \n",
      "299                       Boko Haram                             0   FALSE   \n",
      "\n",
      "    First year of campaign Last year of campaign        Location  \\\n",
      "1                     1987                  1991         Estonia   \n",
      "2                     1977                  1977           Aruba   \n",
      "3                     1989                  1991          Latvia   \n",
      "4                     1984                  1985         Uruguay   \n",
      "5                     1967                  1968  Czechoslovakia   \n",
      "..                     ...                   ...             ...   \n",
      "295                   1967                  1971           India   \n",
      "296                   1985                  2013           India   \n",
      "297                   1987                  2013           India   \n",
      "298                   1989                  2013           India   \n",
      "299                   2009                  2013         Nigeria   \n",
      "\n",
      "     Pop in that year greater than 3.5% of pop involved?  \\\n",
      "1             1552221                               TRUE   \n",
      "2               60366                               TRUE   \n",
      "3             2666955                               TRUE   \n",
      "4             2992246                               TRUE   \n",
      "5             9852899                               TRUE   \n",
      "..                ...                                ...   \n",
      "295         520400576                              FALSE   \n",
      "296         784360008                              FALSE   \n",
      "297         819682102                              FALSE   \n",
      "298         855334678                              FALSE   \n",
      "299         154324933                              FALSE   \n",
      "\n",
      "     parparticipants as % population  \n",
      "1                            12885.0  \n",
      "2                             9939.0  \n",
      "3                             7499.0  \n",
      "4                             6684.0  \n",
      "5                             3552.0  \n",
      "..                               ...  \n",
      "295                              0.0  \n",
      "296                              0.0  \n",
      "297                              0.0  \n",
      "298                              0.0  \n",
      "299                              0.0  \n",
      "\n",
      "[299 rows x 9 columns]\n"
     ]
    },
    {
     "name": "stderr",
     "output_type": "stream",
     "text": [
      "C:\\Users\\Cajun\\AppData\\Local\\Temp\\ipykernel_32852\\235010656.py:2: SettingWithCopyWarning: \n",
      "A value is trying to be set on a copy of a slice from a DataFrame.\n",
      "Try using .loc[row_indexer,col_indexer] = value instead\n",
      "\n",
      "See the caveats in the documentation: https://pandas.pydata.org/pandas-docs/stable/user_guide/indexing.html#returning-a-view-versus-a-copy\n",
      "  trim_protest_data_df['participants as % population'] = trim_protest_data_df['participants as % population'].str.replace('%', '').str.replace(',', '.')\n",
      "C:\\Users\\Cajun\\AppData\\Local\\Temp\\ipykernel_32852\\235010656.py:5: SettingWithCopyWarning: \n",
      "A value is trying to be set on a copy of a slice from a DataFrame.\n",
      "Try using .loc[row_indexer,col_indexer] = value instead\n",
      "\n",
      "See the caveats in the documentation: https://pandas.pydata.org/pandas-docs/stable/user_guide/indexing.html#returning-a-view-versus-a-copy\n",
      "  trim_protest_data_df['participants as % population'] = pd.to_numeric(trim_protest_data_df['participants as % population'], errors='coerce')\n"
     ]
    }
   ],
   "source": [
    "# Remove non-numeric characters (like '%' and ',') and convert to float\n",
    "trim_protest_data_df['participants as % population'] = trim_protest_data_df['participants as % population'].str.replace('%', '').str.replace(',', '.')\n",
    "\n",
    "# Convert to float\n",
    "trim_protest_data_df['participants as % population'] = pd.to_numeric(trim_protest_data_df['participants as % population'], errors='coerce')\n",
    "\n",
    "print(trim_protest_data_df)"
   ]
  },
  {
   "cell_type": "code",
   "execution_count": 152,
   "metadata": {},
   "outputs": [
    {
     "name": "stdout",
     "output_type": "stream",
     "text": [
      "Not all values in the 'participants as % population' column are floats.\n"
     ]
    },
    {
     "name": "stderr",
     "output_type": "stream",
     "text": [
      "C:\\Users\\Cajun\\AppData\\Local\\Temp\\ipykernel_32852\\688605258.py:10: SettingWithCopyWarning: \n",
      "A value is trying to be set on a copy of a slice from a DataFrame.\n",
      "Try using .loc[row_indexer,col_indexer] = value instead\n",
      "\n",
      "See the caveats in the documentation: https://pandas.pydata.org/pandas-docs/stable/user_guide/indexing.html#returning-a-view-versus-a-copy\n",
      "  trim_protest_data_df['participants as % population'] = trim_protest_data_df['participants as % population'].astype(float)\n"
     ]
    }
   ],
   "source": [
    "#Check if all values in the 'participants as % population' column are floats\n",
    "are_all_floats = trim_protest_data_df['participants as % population'].apply(lambda x: isinstance(x, float)).all()\n",
    "\n",
    "if are_all_floats:\n",
    "    print(\"All values in the 'participants as % population' column are floats.\")\n",
    "else:\n",
    "    print(\"Not all values in the 'participants as % population' column are floats.\")\n",
    "\n",
    "#Convert the 'participants as % population' column to floats\n",
    "trim_protest_data_df['participants as % population'] = trim_protest_data_df['participants as % population'].astype(float)\n"
   ]
  },
  {
   "cell_type": "code",
   "execution_count": 153,
   "metadata": {},
   "outputs": [
    {
     "name": "stdout",
     "output_type": "stream",
     "text": [
      "All values in the 'participants as % population' column are floats.\n"
     ]
    }
   ],
   "source": [
    "#Check if all values in the 'participants as % population' column are floats\n",
    "are_all_floats = trim_protest_data_df['participants as % population'].apply(lambda x: isinstance(x, float)).all()\n",
    "\n",
    "if are_all_floats:\n",
    "    print(\"All values in the 'participants as % population' column are floats.\")\n",
    "else:\n",
    "    print(\"Not all values in the 'participants as % population' column are floats.\")\n"
   ]
  },
  {
   "cell_type": "code",
   "execution_count": 154,
   "metadata": {},
   "outputs": [
    {
     "name": "stderr",
     "output_type": "stream",
     "text": [
      "C:\\Users\\Cajun\\AppData\\Local\\Temp\\ipykernel_32852\\1831367179.py:2: SettingWithCopyWarning: \n",
      "A value is trying to be set on a copy of a slice from a DataFrame.\n",
      "Try using .loc[row_indexer,col_indexer] = value instead\n",
      "\n",
      "See the caveats in the documentation: https://pandas.pydata.org/pandas-docs/stable/user_guide/indexing.html#returning-a-view-versus-a-copy\n",
      "  trim_protest_data_df['participants as % population'] = trim_protest_data_df['participants as % population'] / 100\n"
     ]
    }
   ],
   "source": [
    "#Move decimal point two places to the left\n",
    "trim_protest_data_df['participants as % population'] = trim_protest_data_df['participants as % population'] / 100"
   ]
  },
  {
   "cell_type": "code",
   "execution_count": 155,
   "metadata": {},
   "outputs": [],
   "source": [
    "trim_protest_data_df = trim_protest_data_df.drop(columns=['parparticipants as % population'])"
   ]
  },
  {
   "cell_type": "code",
   "execution_count": 156,
   "metadata": {},
   "outputs": [],
   "source": [
    "trim_protest_data_df['First year of campaign'] = trim_protest_data_df['First year of campaign'].astype(int)\n",
    "trim_protest_data_df['Last year of campaign'] = trim_protest_data_df['Last year of campaign'].astype(int)"
   ]
  },
  {
   "cell_type": "code",
   "execution_count": 157,
   "metadata": {},
   "outputs": [
    {
     "name": "stdout",
     "output_type": "stream",
     "text": [
      "All values in the 'First year of campaign' column are integers.\n"
     ]
    }
   ],
   "source": [
    "#Check if all values in the 'First year of campaign' column are integers\n",
    "are_all_integers = trim_protest_data_df['First year of campaign'].apply(lambda x: isinstance(x, int)).all()\n",
    "\n",
    "if are_all_integers:\n",
    "    print(\"All values in the 'First year of campaign' column are integers.\")\n",
    "else:\n",
    "    print(\"Not all values in the 'First year of campaign' column are integers.\")"
   ]
  },
  {
   "cell_type": "code",
   "execution_count": 158,
   "metadata": {},
   "outputs": [
    {
     "name": "stdout",
     "output_type": "stream",
     "text": [
      "All values in the 'Last year of campaign' column are integers.\n"
     ]
    }
   ],
   "source": [
    "#Check if all values in the 'Last year of campaign' column are integers\n",
    "are_all_integers = trim_protest_data_df['Last year of campaign'].apply(lambda x: isinstance(x, int)).all()\n",
    "\n",
    "if are_all_integers:\n",
    "    print(\"All values in the 'Last year of campaign' column are integers.\")\n",
    "else:\n",
    "    print(\"Not all values in the 'Last year of campaign' column are integers.\")"
   ]
  },
  {
   "cell_type": "code",
   "execution_count": 159,
   "metadata": {},
   "outputs": [
    {
     "data": {
      "text/html": [
       "<div>\n",
       "<style scoped>\n",
       "    .dataframe tbody tr th:only-of-type {\n",
       "        vertical-align: middle;\n",
       "    }\n",
       "\n",
       "    .dataframe tbody tr th {\n",
       "        vertical-align: top;\n",
       "    }\n",
       "\n",
       "    .dataframe thead th {\n",
       "        text-align: right;\n",
       "    }\n",
       "</style>\n",
       "<table border=\"1\" class=\"dataframe\">\n",
       "  <thead>\n",
       "    <tr style=\"text-align: right;\">\n",
       "      <th></th>\n",
       "      <th>campaign</th>\n",
       "      <th>participants as % population</th>\n",
       "      <th>Success</th>\n",
       "      <th>First year of campaign</th>\n",
       "      <th>Last year of campaign</th>\n",
       "      <th>Location</th>\n",
       "      <th>Pop in that year</th>\n",
       "      <th>greater than 3.5% of pop involved?</th>\n",
       "      <th>Campaign Duration</th>\n",
       "    </tr>\n",
       "  </thead>\n",
       "  <tbody>\n",
       "    <tr>\n",
       "      <th>1</th>\n",
       "      <td>Singing Revolution</td>\n",
       "      <td>128.85</td>\n",
       "      <td>TRUE</td>\n",
       "      <td>1987</td>\n",
       "      <td>1991</td>\n",
       "      <td>Estonia</td>\n",
       "      <td>1552221</td>\n",
       "      <td>TRUE</td>\n",
       "      <td>4</td>\n",
       "    </tr>\n",
       "    <tr>\n",
       "      <th>2</th>\n",
       "      <td>Aruba Pro-Independence Campaign</td>\n",
       "      <td>99.39</td>\n",
       "      <td>FALSE</td>\n",
       "      <td>1977</td>\n",
       "      <td>1977</td>\n",
       "      <td>Aruba</td>\n",
       "      <td>60366</td>\n",
       "      <td>TRUE</td>\n",
       "      <td>0</td>\n",
       "    </tr>\n",
       "    <tr>\n",
       "      <th>3</th>\n",
       "      <td>Latvia pro-dem movement</td>\n",
       "      <td>74.99</td>\n",
       "      <td>TRUE</td>\n",
       "      <td>1989</td>\n",
       "      <td>1991</td>\n",
       "      <td>Latvia</td>\n",
       "      <td>2666955</td>\n",
       "      <td>TRUE</td>\n",
       "      <td>2</td>\n",
       "    </tr>\n",
       "    <tr>\n",
       "      <th>4</th>\n",
       "      <td>Uruguay Anti-Military</td>\n",
       "      <td>66.84</td>\n",
       "      <td>TRUE</td>\n",
       "      <td>1984</td>\n",
       "      <td>1985</td>\n",
       "      <td>Uruguay</td>\n",
       "      <td>2992246</td>\n",
       "      <td>TRUE</td>\n",
       "      <td>1</td>\n",
       "    </tr>\n",
       "    <tr>\n",
       "      <th>5</th>\n",
       "      <td>Czech Anti-Soviet Occupation</td>\n",
       "      <td>35.52</td>\n",
       "      <td>FALSE</td>\n",
       "      <td>1967</td>\n",
       "      <td>1968</td>\n",
       "      <td>Czechoslovakia</td>\n",
       "      <td>9852899</td>\n",
       "      <td>TRUE</td>\n",
       "      <td>1</td>\n",
       "    </tr>\n",
       "  </tbody>\n",
       "</table>\n",
       "</div>"
      ],
      "text/plain": [
       "                          campaign  participants as % population Success  \\\n",
       "1               Singing Revolution                        128.85    TRUE   \n",
       "2  Aruba Pro-Independence Campaign                         99.39   FALSE   \n",
       "3          Latvia pro-dem movement                         74.99    TRUE   \n",
       "4            Uruguay Anti-Military                         66.84    TRUE   \n",
       "5     Czech Anti-Soviet Occupation                         35.52   FALSE   \n",
       "\n",
       "   First year of campaign  Last year of campaign        Location  \\\n",
       "1                    1987                   1991         Estonia   \n",
       "2                    1977                   1977           Aruba   \n",
       "3                    1989                   1991          Latvia   \n",
       "4                    1984                   1985         Uruguay   \n",
       "5                    1967                   1968  Czechoslovakia   \n",
       "\n",
       "   Pop in that year greater than 3.5% of pop involved?  Campaign Duration  \n",
       "1           1552221                               TRUE                  4  \n",
       "2             60366                               TRUE                  0  \n",
       "3           2666955                               TRUE                  2  \n",
       "4           2992246                               TRUE                  1  \n",
       "5           9852899                               TRUE                  1  "
      ]
     },
     "execution_count": 159,
     "metadata": {},
     "output_type": "execute_result"
    }
   ],
   "source": [
    "#Create a new column that calculates the duration of the campaign\n",
    "trim_protest_data_df['Campaign Duration'] = trim_protest_data_df['Last year of campaign'] - trim_protest_data_df['First year of campaign']\n",
    "trim_protest_data_df.head()"
   ]
  },
  {
   "cell_type": "code",
   "execution_count": 160,
   "metadata": {},
   "outputs": [],
   "source": [
    "# Function to move a column to the left by a specified number of positions\n",
    "def move_column(trim_protest_data_df, column_name, positions):\n",
    "    cols = trim_protest_data_df.columns.tolist()\n",
    "    current_index = cols.index(column_name)\n",
    "    new_index = max(0, current_index - positions)  # Ensure the new index is not negative\n",
    "    cols.insert(new_index, cols.pop(current_index))\n",
    "    return trim_protest_data_df[cols]\n"
   ]
  },
  {
   "cell_type": "code",
   "execution_count": 161,
   "metadata": {},
   "outputs": [
    {
     "data": {
      "text/html": [
       "<div>\n",
       "<style scoped>\n",
       "    .dataframe tbody tr th:only-of-type {\n",
       "        vertical-align: middle;\n",
       "    }\n",
       "\n",
       "    .dataframe tbody tr th {\n",
       "        vertical-align: top;\n",
       "    }\n",
       "\n",
       "    .dataframe thead th {\n",
       "        text-align: right;\n",
       "    }\n",
       "</style>\n",
       "<table border=\"1\" class=\"dataframe\">\n",
       "  <thead>\n",
       "    <tr style=\"text-align: right;\">\n",
       "      <th></th>\n",
       "      <th>campaign</th>\n",
       "      <th>participants as % population</th>\n",
       "      <th>Success</th>\n",
       "      <th>First year of campaign</th>\n",
       "      <th>Last year of campaign</th>\n",
       "      <th>Campaign Duration</th>\n",
       "      <th>Location</th>\n",
       "      <th>Pop in that year</th>\n",
       "      <th>greater than 3.5% of pop involved?</th>\n",
       "    </tr>\n",
       "  </thead>\n",
       "  <tbody>\n",
       "    <tr>\n",
       "      <th>1</th>\n",
       "      <td>Singing Revolution</td>\n",
       "      <td>128.85</td>\n",
       "      <td>TRUE</td>\n",
       "      <td>1987</td>\n",
       "      <td>1991</td>\n",
       "      <td>4</td>\n",
       "      <td>Estonia</td>\n",
       "      <td>1552221</td>\n",
       "      <td>TRUE</td>\n",
       "    </tr>\n",
       "    <tr>\n",
       "      <th>2</th>\n",
       "      <td>Aruba Pro-Independence Campaign</td>\n",
       "      <td>99.39</td>\n",
       "      <td>FALSE</td>\n",
       "      <td>1977</td>\n",
       "      <td>1977</td>\n",
       "      <td>0</td>\n",
       "      <td>Aruba</td>\n",
       "      <td>60366</td>\n",
       "      <td>TRUE</td>\n",
       "    </tr>\n",
       "    <tr>\n",
       "      <th>3</th>\n",
       "      <td>Latvia pro-dem movement</td>\n",
       "      <td>74.99</td>\n",
       "      <td>TRUE</td>\n",
       "      <td>1989</td>\n",
       "      <td>1991</td>\n",
       "      <td>2</td>\n",
       "      <td>Latvia</td>\n",
       "      <td>2666955</td>\n",
       "      <td>TRUE</td>\n",
       "    </tr>\n",
       "    <tr>\n",
       "      <th>4</th>\n",
       "      <td>Uruguay Anti-Military</td>\n",
       "      <td>66.84</td>\n",
       "      <td>TRUE</td>\n",
       "      <td>1984</td>\n",
       "      <td>1985</td>\n",
       "      <td>1</td>\n",
       "      <td>Uruguay</td>\n",
       "      <td>2992246</td>\n",
       "      <td>TRUE</td>\n",
       "    </tr>\n",
       "    <tr>\n",
       "      <th>5</th>\n",
       "      <td>Czech Anti-Soviet Occupation</td>\n",
       "      <td>35.52</td>\n",
       "      <td>FALSE</td>\n",
       "      <td>1967</td>\n",
       "      <td>1968</td>\n",
       "      <td>1</td>\n",
       "      <td>Czechoslovakia</td>\n",
       "      <td>9852899</td>\n",
       "      <td>TRUE</td>\n",
       "    </tr>\n",
       "  </tbody>\n",
       "</table>\n",
       "</div>"
      ],
      "text/plain": [
       "                          campaign  participants as % population Success  \\\n",
       "1               Singing Revolution                        128.85    TRUE   \n",
       "2  Aruba Pro-Independence Campaign                         99.39   FALSE   \n",
       "3          Latvia pro-dem movement                         74.99    TRUE   \n",
       "4            Uruguay Anti-Military                         66.84    TRUE   \n",
       "5     Czech Anti-Soviet Occupation                         35.52   FALSE   \n",
       "\n",
       "   First year of campaign  Last year of campaign  Campaign Duration  \\\n",
       "1                    1987                   1991                  4   \n",
       "2                    1977                   1977                  0   \n",
       "3                    1989                   1991                  2   \n",
       "4                    1984                   1985                  1   \n",
       "5                    1967                   1968                  1   \n",
       "\n",
       "         Location  Pop in that year greater than 3.5% of pop involved?  \n",
       "1         Estonia           1552221                               TRUE  \n",
       "2           Aruba             60366                               TRUE  \n",
       "3          Latvia           2666955                               TRUE  \n",
       "4         Uruguay           2992246                               TRUE  \n",
       "5  Czechoslovakia           9852899                               TRUE  "
      ]
     },
     "execution_count": 161,
     "metadata": {},
     "output_type": "execute_result"
    }
   ],
   "source": [
    "trim_protest_data_df = move_column(trim_protest_data_df, 'Campaign Duration', 3)\n",
    "trim_protest_data_df.head()"
   ]
  },
  {
   "cell_type": "code",
   "execution_count": 162,
   "metadata": {},
   "outputs": [
    {
     "data": {
      "image/png": "[encoded data removed]",
      "text/plain": [
       "<Figure size 1500x1000 with 1 Axes>"
      ]
     },
     "metadata": {},
     "output_type": "display_data"
    }
   ],
   "source": [
    "#Bar chart of the number of campaigns by year\n",
    "campaigns_by_year = trim_protest_data_df['First year of campaign'].value_counts().sort_index()\n",
    "campaigns_by_year.plot(kind='bar', figsize=(15, 10))\n",
    "plt.title('Number of Campaigns by Year')\n",
    "plt.xlabel('Year')\n",
    "plt.ylabel('Number of Campaigns')\n",
    "plt.grid(axis='y')\n",
    "plt.show()\n"
   ]
  },
  {
   "cell_type": "code",
   "execution_count": 168,
   "metadata": {},
   "outputs": [
    {
     "data": {
      "text/plain": [
       "array(['Estonia', 'Aruba', 'Latvia', 'Uruguay', 'Czechoslovakia',\n",
       "       'Argentina', 'Zambia', 'Panama', 'Lebanon', 'East Timor', 'Poland',\n",
       "       'Comoros', 'Bolivia', 'South Africa', 'Lithuania',\n",
       "       'Democratic Republic of Congo', 'Bahrain', 'Sudan', 'Portugal',\n",
       "       'Albania', 'Yemen', 'Iran', 'Chile', 'Honduras', 'Madagascar',\n",
       "       'Nepal', 'Maldives', 'Tonga', 'Pakistan', 'Brunei',\n",
       "       'Yemen Arab Republic', 'Philippines', 'Serbia', 'Cambodia',\n",
       "       'Nigeria', 'China', 'Togo', 'Egypt', 'Fiji', 'Mauritania',\n",
       "       'South Korea', 'Algeria', 'Djibouti', 'Bosnia-Herzegovina',\n",
       "       'Greece', 'Iceland', 'Afghanistan', 'Georgia', 'Ukraine', 'Jordan',\n",
       "       'Belarus', 'Romania', 'Tunisia', 'Mongolia', 'Guinea-Bissau',\n",
       "       'Liberia', 'Namibia', 'Brazil', 'Haiti', 'Slovakia', 'Syria',\n",
       "       'Mali', 'Central African Republic', 'France', 'Sierra Leone',\n",
       "       'Mexico', 'Iraq', 'Slovenia', 'Thailand', 'Guinea', 'Kyrgyzstan',\n",
       "       'Hungary', 'Peru', 'Angola', 'Bulgaria', 'Venezuela', 'Sri Lanka',\n",
       "       'Spain', 'Ecuador', 'Burundi', 'Benin', 'Armenia', 'Nicaragua',\n",
       "       'Croatia', 'Suriname', 'Somalia', 'Israel', 'Oman', 'Chad',\n",
       "       'Zimbabwe', 'Myanmar', 'Rwanda', 'Macedonia', 'Malawi',\n",
       "       'Tajikistan', 'Turkey', 'Indonesia', 'El Salvador', 'South Sudan',\n",
       "       'Niger', 'Moldova', 'Myanmar/Burma', \"Cote d'Ivoire\", 'Azerbaijan',\n",
       "       'Ethiopia', 'Russia', 'Mozambique', 'Swaziland', 'Cameroon',\n",
       "       'India', 'Guatemala', 'Uganda', 'Ivory Coast',\n",
       "       'Dominican Republic', 'Colombia', \"Yemen People's Republic\",\n",
       "       'Congo', 'Bangladesh', 'Papua New Guinea', 'Senegal',\n",
       "       'Yemen (North Yemen)', 'Kenya', 'UK'], dtype=object)"
      ]
     },
     "execution_count": 168,
     "metadata": {},
     "output_type": "execute_result"
    }
   ],
   "source": [
    "#Get list of unique locations\n",
    "locations = trim_protest_data_df['Location'].unique()\n",
    "locations\n",
    "\n",
    "\n"
   ]
  },
  {
   "cell_type": "code",
   "execution_count": 169,
   "metadata": {},
   "outputs": [
    {
     "data": {
      "text/plain": [
       "['United States',\n",
       " 'Canada',\n",
       " 'Mexico',\n",
       " 'Greenland',\n",
       " 'Bermuda',\n",
       " 'Saint Pierre and Miquelon']"
      ]
     },
     "execution_count": 169,
     "metadata": {},
     "output_type": "execute_result"
    }
   ],
   "source": [
    "#List the locations in North America\n",
    "north_american_countries = ['United States', 'Canada', 'Mexico', 'Greenland', 'Bermuda', 'Saint Pierre and Miquelon']\n",
    "north_american_countries\n",
    "\n",
    "#List the locations in South America\n",
    "south_american_countries = ['Argentina', 'Bolivia', 'Brazil', 'Chile', 'Colombia', 'Ecuador', 'Guyana', 'Paraguay', 'Peru', 'Suriname', 'Uruguay', 'Venezuela']\n",
    "south_american_countries\n",
    "\n",
    "#List the locations in Europe\n",
    "european_countries = ['Albania', 'Andorra', 'Austria', 'Belarus', 'Belgium', 'Bosnia and Herzegovina', 'Bulgaria', 'Croatia', 'Cyprus', 'Czech Republic', 'Denmark', 'Estonia', 'Finland', 'France', 'Germany', 'Greece', 'Hungary', 'Iceland', 'Ireland', 'Italy', 'Kosovo', 'Latvia', 'Liechtenstein', 'Lithuania', 'Luxembourg', 'Malta', 'Moldova', 'Monaco', 'Montenegro', 'Netherlands', 'North Macedonia', 'Norway', 'Poland', 'Portugal', 'Romania', 'Russia', 'San Marino', 'Serbia', 'Slovakia', 'Slovenia', 'Spain', 'Sweden', 'Switzerland', 'Ukraine', 'United Kingdom', 'Vatican City']\n",
    "european_countries"
   ]
  },
  {
   "cell_type": "code",
   "execution_count": 176,
   "metadata": {},
   "outputs": [
    {
     "data": {
      "image/png": "[encoded data removed]",
      "text/plain": [
       "<Figure size 1500x1000 with 1 Axes>"
      ]
     },
     "metadata": {},
     "output_type": "display_data"
    }
   ],
   "source": [
    "#Make a chart of the number of campaigns for North American countries. Have countries on the x-axis and number of campaigns on the y-axis\n",
    "north_american_campaigns = trim_protest_data_df[trim_protest_data_df['Location'].isin(north_american_countries)]\n",
    "north_american_campaigns = north_american_campaigns['Location'].value_counts()\n",
    "north_american_campaigns.plot(kind='bar', figsize=(15, 10))\n",
    "plt.title('Number of Campaigns in North American Countries')\n",
    "plt.xlabel('Country')\n",
    "plt.ylabel('Number of Campaigns')\n",
    "plt.grid(axis='y')\n",
    "plt.show()\n",
    "\n",
    "\n",
    "\n"
   ]
  },
  {
   "cell_type": "code",
   "execution_count": 178,
   "metadata": {},
   "outputs": [
    {
     "data": {
      "image/png": "[encoded data removed]",
      "text/plain": [
       "<Figure size 1500x1000 with 1 Axes>"
      ]
     },
     "metadata": {},
     "output_type": "display_data"
    }
   ],
   "source": [
    "#Make a chart of the number of campaigns for European countries. Have countries on the x-axis and number of campaigns on the y-axis\n",
    "european_campaigns = trim_protest_data_df[trim_protest_data_df['Location'].isin(european_countries)]\n",
    "european_campaigns = european_campaigns['Location'].value_counts()\n",
    "european_campaigns.plot(kind='bar', figsize=(15, 10))\n",
    "plt.title('Number of Campaigns in European Countries')\n",
    "plt.xlabel('Country')\n",
    "plt.ylabel('Number of Campaigns')\n",
    "plt.grid(axis='y')\n",
    "plt.show()\n"
   ]
  },
  {
   "cell_type": "code",
   "execution_count": 181,
   "metadata": {},
   "outputs": [
    {
     "data": {
      "image/png": "[encoded data removed]",
      "text/plain": [
       "<Figure size 1500x1000 with 1 Axes>"
      ]
     },
     "metadata": {},
     "output_type": "display_data"
    }
   ],
   "source": [
    "#Make a chart displaying the number of successful campaigns in Europe\n",
    "european_campaigns = trim_protest_data_df[trim_protest_data_df['Location'].isin(european_countries)]\n",
    "european_campaigns = european_campaigns[european_campaigns['Success'] == 'TRUE']\n",
    "european_campaigns = european_campaigns['Location'].value_counts()\n",
    "european_campaigns.plot(kind='bar', figsize=(15, 10))\n",
    "plt.title('Number of Successful Campaigns in European Countries')\n",
    "plt.xlabel('Country')\n",
    "plt.ylabel('Number of Campaigns')\n",
    "plt.grid(axis='y')\n",
    "plt.show()\n",
    "\n"
   ]
  }
 ],
 "metadata": {
  "kernelspec": {
   "display_name": "base",
   "language": "python",
   "name": "python3"
  },
  "language_info": {
   "codemirror_mode": {
    "name": "ipython",
    "version": 3
   },
   "file_extension": ".py",
   "mimetype": "text/x-python",
   "name": "python",
   "nbconvert_exporter": "python",
   "pygments_lexer": "ipython3",
   "version": "3.11.7"
  }
 },
 "nbformat": 4,
 "nbformat_minor": 2
}
